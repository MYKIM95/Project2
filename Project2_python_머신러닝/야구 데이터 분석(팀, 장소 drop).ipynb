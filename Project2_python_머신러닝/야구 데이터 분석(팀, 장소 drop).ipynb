{
 "cells": [
  {
   "cell_type": "code",
   "execution_count": 18,
   "metadata": {},
   "outputs": [],
   "source": [
    "import pandas as pd\n",
    "pd.set_option('display.max_row', 500)\n",
    "pd.set_option('display.max_columns', 100)\n",
    "import numpy as np\n",
    "import matplotlib.pyplot as plt  # 그래프 그리는 라이브러리\n",
    "from sklearn.model_selection import train_test_split\n",
    "from sklearn import metrics  # 평가를 위한 라이브러리\n",
    "from sklearn.neighbors import KNeighborsClassifier\n",
    "from sklearn.model_selection import cross_val_score\n",
    "from sklearn.preprocessing import StandardScaler\n",
    "from sklearn.tree import DecisionTreeClassifier\n",
    "from sklearn.svm import SVC\n",
    "\n",
    "import seaborn as sns  # 시각화 라이브러리"
   ]
  },
  {
   "cell_type": "code",
   "execution_count": 19,
   "metadata": {},
   "outputs": [],
   "source": [
    "train = pd.read_csv('data/train.csv', index_col = 'day_text')\n",
    "test = pd.read_csv('data/test.csv', index_col = 'day_text')"
   ]
  },
  {
   "cell_type": "code",
   "execution_count": 20,
   "metadata": {},
   "outputs": [
    {
     "name": "stdout",
     "output_type": "stream",
     "text": [
      "<class 'pandas.core.frame.DataFrame'>\n",
      "Index: 7000 entries, 4.7 to 7.7\n",
      "Data columns (total 12 columns):\n",
      " #   Column       Non-Null Count  Dtype  \n",
      "---  ------       --------------  -----  \n",
      " 0   team_text    7000 non-null   object \n",
      " 1   H_text       7000 non-null   int64  \n",
      " 2   HR_text      7000 non-null   int64  \n",
      " 3   S_text       7000 non-null   int64  \n",
      " 4   ST_text      7000 non-null   int64  \n",
      " 5   DU_text      7000 non-null   int64  \n",
      " 6   ER_text      7000 non-null   int64  \n",
      " 7   result_text  7000 non-null   int64  \n",
      " 8   location     7000 non-null   object \n",
      " 9   temp         7000 non-null   float64\n",
      " 10  rain         7000 non-null   float64\n",
      " 11  humidity     7000 non-null   float64\n",
      "dtypes: float64(3), int64(7), object(2)\n",
      "memory usage: 710.9+ KB\n"
     ]
    }
   ],
   "source": [
    "train.info()"
   ]
  },
  {
   "cell_type": "code",
   "execution_count": 21,
   "metadata": {},
   "outputs": [
    {
     "name": "stdout",
     "output_type": "stream",
     "text": [
      "<class 'pandas.core.frame.DataFrame'>\n",
      "Index: 3398 entries, 7.7 to 10.26토\n",
      "Data columns (total 12 columns):\n",
      " #   Column       Non-Null Count  Dtype  \n",
      "---  ------       --------------  -----  \n",
      " 0   team_text    3398 non-null   object \n",
      " 1   H_text       3398 non-null   int64  \n",
      " 2   HR_text      3398 non-null   int64  \n",
      " 3   S_text       3398 non-null   int64  \n",
      " 4   ST_text      3398 non-null   int64  \n",
      " 5   DU_text      3398 non-null   int64  \n",
      " 6   ER_text      3398 non-null   int64  \n",
      " 7   result_text  3398 non-null   int64  \n",
      " 8   location     3398 non-null   object \n",
      " 9   temp         3398 non-null   float64\n",
      " 10  rain         3398 non-null   float64\n",
      " 11  humidity     3398 non-null   int64  \n",
      "dtypes: float64(2), int64(8), object(2)\n",
      "memory usage: 345.1+ KB\n"
     ]
    }
   ],
   "source": [
    "test.info()"
   ]
  },
  {
   "cell_type": "code",
   "execution_count": 15,
   "metadata": {},
   "outputs": [
    {
     "data": {
      "text/html": [
       "<div>\n",
       "<style scoped>\n",
       "    .dataframe tbody tr th:only-of-type {\n",
       "        vertical-align: middle;\n",
       "    }\n",
       "\n",
       "    .dataframe tbody tr th {\n",
       "        vertical-align: top;\n",
       "    }\n",
       "\n",
       "    .dataframe thead th {\n",
       "        text-align: right;\n",
       "    }\n",
       "</style>\n",
       "<table border=\"1\" class=\"dataframe\">\n",
       "  <thead>\n",
       "    <tr style=\"text-align: right;\">\n",
       "      <th></th>\n",
       "      <th>H_text</th>\n",
       "      <th>HR_text</th>\n",
       "      <th>S_text</th>\n",
       "      <th>ST_text</th>\n",
       "      <th>DU_text</th>\n",
       "      <th>ER_text</th>\n",
       "      <th>result_text</th>\n",
       "      <th>temp</th>\n",
       "      <th>rain</th>\n",
       "      <th>humidity</th>\n",
       "    </tr>\n",
       "  </thead>\n",
       "  <tbody>\n",
       "    <tr>\n",
       "      <th>H_text</th>\n",
       "      <td>1.000000</td>\n",
       "      <td>0.381357</td>\n",
       "      <td>0.109626</td>\n",
       "      <td>-0.107799</td>\n",
       "      <td>0.080418</td>\n",
       "      <td>-0.002447</td>\n",
       "      <td>0.411615</td>\n",
       "      <td>0.067297</td>\n",
       "      <td>0.002754</td>\n",
       "      <td>0.006877</td>\n",
       "    </tr>\n",
       "    <tr>\n",
       "      <th>HR_text</th>\n",
       "      <td>0.381357</td>\n",
       "      <td>1.000000</td>\n",
       "      <td>-0.020410</td>\n",
       "      <td>0.009257</td>\n",
       "      <td>-0.045893</td>\n",
       "      <td>-0.019503</td>\n",
       "      <td>0.267704</td>\n",
       "      <td>0.050888</td>\n",
       "      <td>-0.024830</td>\n",
       "      <td>0.052948</td>\n",
       "    </tr>\n",
       "    <tr>\n",
       "      <th>S_text</th>\n",
       "      <td>0.109626</td>\n",
       "      <td>-0.020410</td>\n",
       "      <td>1.000000</td>\n",
       "      <td>0.024302</td>\n",
       "      <td>-0.070301</td>\n",
       "      <td>-0.023027</td>\n",
       "      <td>0.168250</td>\n",
       "      <td>-0.003281</td>\n",
       "      <td>-0.000741</td>\n",
       "      <td>-0.037783</td>\n",
       "    </tr>\n",
       "    <tr>\n",
       "      <th>ST_text</th>\n",
       "      <td>-0.107799</td>\n",
       "      <td>0.009257</td>\n",
       "      <td>0.024302</td>\n",
       "      <td>1.000000</td>\n",
       "      <td>-0.174138</td>\n",
       "      <td>0.042208</td>\n",
       "      <td>-0.177470</td>\n",
       "      <td>-0.068097</td>\n",
       "      <td>0.001156</td>\n",
       "      <td>0.051873</td>\n",
       "    </tr>\n",
       "    <tr>\n",
       "      <th>DU_text</th>\n",
       "      <td>0.080418</td>\n",
       "      <td>-0.045893</td>\n",
       "      <td>-0.070301</td>\n",
       "      <td>-0.174138</td>\n",
       "      <td>1.000000</td>\n",
       "      <td>0.014275</td>\n",
       "      <td>-0.079218</td>\n",
       "      <td>-0.003311</td>\n",
       "      <td>-0.005420</td>\n",
       "      <td>0.006083</td>\n",
       "    </tr>\n",
       "    <tr>\n",
       "      <th>ER_text</th>\n",
       "      <td>-0.002447</td>\n",
       "      <td>-0.019503</td>\n",
       "      <td>-0.023027</td>\n",
       "      <td>0.042208</td>\n",
       "      <td>0.014275</td>\n",
       "      <td>1.000000</td>\n",
       "      <td>-0.172610</td>\n",
       "      <td>-0.034883</td>\n",
       "      <td>-0.012892</td>\n",
       "      <td>-0.031010</td>\n",
       "    </tr>\n",
       "    <tr>\n",
       "      <th>result_text</th>\n",
       "      <td>0.411615</td>\n",
       "      <td>0.267704</td>\n",
       "      <td>0.168250</td>\n",
       "      <td>-0.177470</td>\n",
       "      <td>-0.079218</td>\n",
       "      <td>-0.172610</td>\n",
       "      <td>1.000000</td>\n",
       "      <td>0.000000</td>\n",
       "      <td>0.000000</td>\n",
       "      <td>0.000000</td>\n",
       "    </tr>\n",
       "    <tr>\n",
       "      <th>temp</th>\n",
       "      <td>0.067297</td>\n",
       "      <td>0.050888</td>\n",
       "      <td>-0.003281</td>\n",
       "      <td>-0.068097</td>\n",
       "      <td>-0.003311</td>\n",
       "      <td>-0.034883</td>\n",
       "      <td>0.000000</td>\n",
       "      <td>1.000000</td>\n",
       "      <td>-0.006105</td>\n",
       "      <td>-0.180981</td>\n",
       "    </tr>\n",
       "    <tr>\n",
       "      <th>rain</th>\n",
       "      <td>0.002754</td>\n",
       "      <td>-0.024830</td>\n",
       "      <td>-0.000741</td>\n",
       "      <td>0.001156</td>\n",
       "      <td>-0.005420</td>\n",
       "      <td>-0.012892</td>\n",
       "      <td>0.000000</td>\n",
       "      <td>-0.006105</td>\n",
       "      <td>1.000000</td>\n",
       "      <td>0.012211</td>\n",
       "    </tr>\n",
       "    <tr>\n",
       "      <th>humidity</th>\n",
       "      <td>0.006877</td>\n",
       "      <td>0.052948</td>\n",
       "      <td>-0.037783</td>\n",
       "      <td>0.051873</td>\n",
       "      <td>0.006083</td>\n",
       "      <td>-0.031010</td>\n",
       "      <td>0.000000</td>\n",
       "      <td>-0.180981</td>\n",
       "      <td>0.012211</td>\n",
       "      <td>1.000000</td>\n",
       "    </tr>\n",
       "  </tbody>\n",
       "</table>\n",
       "</div>"
      ],
      "text/plain": [
       "               H_text   HR_text    S_text   ST_text   DU_text   ER_text  \\\n",
       "H_text       1.000000  0.381357  0.109626 -0.107799  0.080418 -0.002447   \n",
       "HR_text      0.381357  1.000000 -0.020410  0.009257 -0.045893 -0.019503   \n",
       "S_text       0.109626 -0.020410  1.000000  0.024302 -0.070301 -0.023027   \n",
       "ST_text     -0.107799  0.009257  0.024302  1.000000 -0.174138  0.042208   \n",
       "DU_text      0.080418 -0.045893 -0.070301 -0.174138  1.000000  0.014275   \n",
       "ER_text     -0.002447 -0.019503 -0.023027  0.042208  0.014275  1.000000   \n",
       "result_text  0.411615  0.267704  0.168250 -0.177470 -0.079218 -0.172610   \n",
       "temp         0.067297  0.050888 -0.003281 -0.068097 -0.003311 -0.034883   \n",
       "rain         0.002754 -0.024830 -0.000741  0.001156 -0.005420 -0.012892   \n",
       "humidity     0.006877  0.052948 -0.037783  0.051873  0.006083 -0.031010   \n",
       "\n",
       "             result_text      temp      rain  humidity  \n",
       "H_text          0.411615  0.067297  0.002754  0.006877  \n",
       "HR_text         0.267704  0.050888 -0.024830  0.052948  \n",
       "S_text          0.168250 -0.003281 -0.000741 -0.037783  \n",
       "ST_text        -0.177470 -0.068097  0.001156  0.051873  \n",
       "DU_text        -0.079218 -0.003311 -0.005420  0.006083  \n",
       "ER_text        -0.172610 -0.034883 -0.012892 -0.031010  \n",
       "result_text     1.000000  0.000000  0.000000  0.000000  \n",
       "temp            0.000000  1.000000 -0.006105 -0.180981  \n",
       "rain            0.000000 -0.006105  1.000000  0.012211  \n",
       "humidity        0.000000 -0.180981  0.012211  1.000000  "
      ]
     },
     "execution_count": 15,
     "metadata": {},
     "output_type": "execute_result"
    }
   ],
   "source": [
    "train.corr()"
   ]
  },
  {
   "cell_type": "code",
   "execution_count": 150,
   "metadata": {},
   "outputs": [
    {
     "data": {
      "text/plain": [
       "<seaborn.matrix.ClusterGrid at 0x1fb81a8b640>"
      ]
     },
     "execution_count": 150,
     "metadata": {},
     "output_type": "execute_result"
    },
    {
     "data": {
      "image/png": "[encoded data removed]",
      "text/plain": [
       "<Figure size 720x720 with 4 Axes>"
      ]
     },
     "metadata": {
      "needs_background": "light"
     },
     "output_type": "display_data"
    }
   ],
   "source": [
    "sns.clustermap(train.corr(), \n",
    "               annot = True,      # 실제 값 화면에 나타내기\n",
    "               cmap = 'RdYlBu_r',  # Red, Yellow, Blue 색상으로 표시\n",
    "               vmin = -1, vmax = 1, #컬러차트 -1 ~ 1 범위로 표시\n",
    "              )"
   ]
  },
  {
   "cell_type": "markdown",
   "metadata": {},
   "source": [
    "### 데이터 탐색(result_text 의 빈도가 높은 경우를 찾기)"
   ]
  },
  {
   "cell_type": "code",
   "execution_count": 6,
   "metadata": {},
   "outputs": [
    {
     "data": {
      "text/html": [
       "<div>\n",
       "<style scoped>\n",
       "    .dataframe tbody tr th:only-of-type {\n",
       "        vertical-align: middle;\n",
       "    }\n",
       "\n",
       "    .dataframe tbody tr th {\n",
       "        vertical-align: top;\n",
       "    }\n",
       "\n",
       "    .dataframe thead th {\n",
       "        text-align: right;\n",
       "    }\n",
       "</style>\n",
       "<table border=\"1\" class=\"dataframe\">\n",
       "  <thead>\n",
       "    <tr style=\"text-align: right;\">\n",
       "      <th></th>\n",
       "      <th></th>\n",
       "      <th>location</th>\n",
       "    </tr>\n",
       "    <tr>\n",
       "      <th>team_text</th>\n",
       "      <th>result_text</th>\n",
       "      <th></th>\n",
       "    </tr>\n",
       "  </thead>\n",
       "  <tbody>\n",
       "    <tr>\n",
       "      <th rowspan=\"2\" valign=\"top\">KIA 타이거즈</th>\n",
       "      <th>0</th>\n",
       "      <td>176</td>\n",
       "    </tr>\n",
       "    <tr>\n",
       "      <th>1</th>\n",
       "      <td>163</td>\n",
       "    </tr>\n",
       "    <tr>\n",
       "      <th rowspan=\"2\" valign=\"top\">LG 트윈스</th>\n",
       "      <th>0</th>\n",
       "      <td>168</td>\n",
       "    </tr>\n",
       "    <tr>\n",
       "      <th>1</th>\n",
       "      <td>173</td>\n",
       "    </tr>\n",
       "    <tr>\n",
       "      <th rowspan=\"2\" valign=\"top\">NC 다이노스</th>\n",
       "      <th>0</th>\n",
       "      <td>186</td>\n",
       "    </tr>\n",
       "    <tr>\n",
       "      <th>1</th>\n",
       "      <td>157</td>\n",
       "    </tr>\n",
       "    <tr>\n",
       "      <th rowspan=\"2\" valign=\"top\">SK 와이번스</th>\n",
       "      <th>0</th>\n",
       "      <td>153</td>\n",
       "    </tr>\n",
       "    <tr>\n",
       "      <th>1</th>\n",
       "      <td>186</td>\n",
       "    </tr>\n",
       "    <tr>\n",
       "      <th rowspan=\"2\" valign=\"top\">kt wiz</th>\n",
       "      <th>0</th>\n",
       "      <td>185</td>\n",
       "    </tr>\n",
       "    <tr>\n",
       "      <th>1</th>\n",
       "      <td>147</td>\n",
       "    </tr>\n",
       "    <tr>\n",
       "      <th rowspan=\"2\" valign=\"top\">두산 베어스</th>\n",
       "      <th>0</th>\n",
       "      <td>127</td>\n",
       "    </tr>\n",
       "    <tr>\n",
       "      <th>1</th>\n",
       "      <td>222</td>\n",
       "    </tr>\n",
       "    <tr>\n",
       "      <th rowspan=\"2\" valign=\"top\">롯데 자이언츠</th>\n",
       "      <th>0</th>\n",
       "      <td>177</td>\n",
       "    </tr>\n",
       "    <tr>\n",
       "      <th>1</th>\n",
       "      <td>157</td>\n",
       "    </tr>\n",
       "    <tr>\n",
       "      <th rowspan=\"2\" valign=\"top\">삼성 라이온즈</th>\n",
       "      <th>0</th>\n",
       "      <td>181</td>\n",
       "    </tr>\n",
       "    <tr>\n",
       "      <th>1</th>\n",
       "      <td>147</td>\n",
       "    </tr>\n",
       "    <tr>\n",
       "      <th rowspan=\"2\" valign=\"top\">키움 히어로즈</th>\n",
       "      <th>0</th>\n",
       "      <td>163</td>\n",
       "    </tr>\n",
       "    <tr>\n",
       "      <th>1</th>\n",
       "      <td>190</td>\n",
       "    </tr>\n",
       "    <tr>\n",
       "      <th rowspan=\"2\" valign=\"top\">한화 이글스</th>\n",
       "      <th>0</th>\n",
       "      <td>183</td>\n",
       "    </tr>\n",
       "    <tr>\n",
       "      <th>1</th>\n",
       "      <td>157</td>\n",
       "    </tr>\n",
       "  </tbody>\n",
       "</table>\n",
       "</div>"
      ],
      "text/plain": [
       "                       location\n",
       "team_text result_text          \n",
       "KIA 타이거즈  0                 176\n",
       "          1                 163\n",
       "LG 트윈스    0                 168\n",
       "          1                 173\n",
       "NC 다이노스   0                 186\n",
       "          1                 157\n",
       "SK 와이번스   0                 153\n",
       "          1                 186\n",
       "kt wiz    0                 185\n",
       "          1                 147\n",
       "두산 베어스    0                 127\n",
       "          1                 222\n",
       "롯데 자이언츠   0                 177\n",
       "          1                 157\n",
       "삼성 라이온즈   0                 181\n",
       "          1                 147\n",
       "키움 히어로즈   0                 163\n",
       "          1                 190\n",
       "한화 이글스    0                 183\n",
       "          1                 157"
      ]
     },
     "execution_count": 6,
     "metadata": {},
     "output_type": "execute_result"
    }
   ],
   "source": [
    "test_result = test[['team_text', 'result_text', 'location']].groupby(['team_text','result_text']).count()\n",
    "test_result"
   ]
  },
  {
   "cell_type": "markdown",
   "metadata": {},
   "source": [
    "### 온도 5도 기준으로 나눠서 시각화\n",
    "- 어느 온도에서 야구 경기가 많이 이루어졌는지 볼 수 있음"
   ]
  },
  {
   "cell_type": "code",
   "execution_count": 7,
   "metadata": {},
   "outputs": [],
   "source": [
    "bins = [5,11,16,21,26,31,36,41]  # 구간 만들기\n",
    "labels = ['5~10', '10~15', '15~20', '20~25', '25~30', '30~35', '35~40']\n",
    "train['temp'] = pd.cut(train['temp'], bins = bins, labels = labels)\n",
    "test['temp'] = pd.cut(test['temp'], bins = bins, labels = labels)"
   ]
  },
  {
   "cell_type": "code",
   "execution_count": 8,
   "metadata": {},
   "outputs": [
    {
     "data": {
      "text/plain": [
       "<AxesSubplot:xlabel='temp', ylabel='count'>"
      ]
     },
     "execution_count": 8,
     "metadata": {},
     "output_type": "execute_result"
    },
    {
     "data": {
      "image/png": "[encoded data removed]",
      "text/plain": [
       "<Figure size 432x288 with 1 Axes>"
      ]
     },
     "metadata": {
      "needs_background": "light"
     },
     "output_type": "display_data"
    }
   ],
   "source": [
    "sns.countplot(data = train, x = 'temp', hue='result_text')"
   ]
  },
  {
   "cell_type": "code",
   "execution_count": null,
   "metadata": {},
   "outputs": [],
   "source": [
    "titanic_size = titanic.pivot_table(\n",
    "    index=\"class\", columns=\"sex\", aggfunc=\"size\")\n",
    "titanic_size"
   ]
  },
  {
   "cell_type": "markdown",
   "metadata": {},
   "source": [
    "### 강수량 3mm 를 기준으로 나눠서 시각화"
   ]
  },
  {
   "cell_type": "code",
   "execution_count": 22,
   "metadata": {},
   "outputs": [],
   "source": [
    "bins = [0,4,7,10,13,16,19]  # 구간 만들기\n",
    "labels = ['0~3', '3~6', '6~9', '9~12', '12~15', '15~18']\n",
    "train['rain'] = pd.cut(train['rain'], bins = bins, labels = labels)\n",
    "test['rain'] = pd.cut(test['rain'], bins = bins, labels = labels)"
   ]
  },
  {
   "cell_type": "code",
   "execution_count": 23,
   "metadata": {},
   "outputs": [
    {
     "data": {
      "text/plain": [
       "<AxesSubplot:xlabel='rain', ylabel='count'>"
      ]
     },
     "execution_count": 23,
     "metadata": {},
     "output_type": "execute_result"
    },
    {
     "data": {
      "image/png": "[encoded data removed]",
      "text/plain": [
       "<Figure size 432x288 with 1 Axes>"
      ]
     },
     "metadata": {
      "needs_background": "light"
     },
     "output_type": "display_data"
    }
   ],
   "source": [
    "sns.countplot(data = train, x = 'rain', hue='result_text')"
   ]
  },
  {
   "cell_type": "markdown",
   "metadata": {},
   "source": [
    "### 습도 10% 를 기준으로 나눠서 시각화"
   ]
  },
  {
   "cell_type": "code",
   "execution_count": 11,
   "metadata": {},
   "outputs": [],
   "source": [
    "bins = [-1,11,21,31,41,51,61,71,81,91,101]  # 구간 만들기\n",
    "labels = ['0~10', '10~20', '20~30', '30~40', '40~50', '50~60', '60~70', '70~80', '80~90', '90~100']\n",
    "train['humidity'] = pd.cut(train['humidity'], bins = bins, labels = labels)\n",
    "test['humidity'] = pd.cut(test['humidity'], bins = bins, labels = labels)"
   ]
  },
  {
   "cell_type": "code",
   "execution_count": 12,
   "metadata": {},
   "outputs": [
    {
     "data": {
      "text/plain": [
       "<AxesSubplot:xlabel='humidity', ylabel='count'>"
      ]
     },
     "execution_count": 12,
     "metadata": {},
     "output_type": "execute_result"
    },
    {
     "data": {
      "image/png": "[encoded data removed]",
      "text/plain": [
       "<Figure size 432x288 with 1 Axes>"
      ]
     },
     "metadata": {
      "needs_background": "light"
     },
     "output_type": "display_data"
    }
   ],
   "source": [
    "sns.countplot(data = train, x = 'humidity', hue='result_text')"
   ]
  },
  {
   "cell_type": "markdown",
   "metadata": {},
   "source": [
    "### 일단 팀 구별 없이 데이터 넣고 모델 돌려보기\n",
    "- 팀 이름 데이터와 location 데이터 drop\n",
    "\n",
    "* 위에서 부터 실행 시킬때 카테고리화 되기 때문에 데이터 다시 불러와야함"
   ]
  },
  {
   "cell_type": "code",
   "execution_count": 6,
   "metadata": {},
   "outputs": [
    {
     "name": "stdout",
     "output_type": "stream",
     "text": [
      "<class 'pandas.core.frame.DataFrame'>\n",
      "Index: 7000 entries, 4.7 to 7.7\n",
      "Data columns (total 12 columns):\n",
      " #   Column       Non-Null Count  Dtype  \n",
      "---  ------       --------------  -----  \n",
      " 0   team_text    7000 non-null   object \n",
      " 1   H_text       7000 non-null   int64  \n",
      " 2   HR_text      7000 non-null   int64  \n",
      " 3   S_text       7000 non-null   int64  \n",
      " 4   ST_text      7000 non-null   int64  \n",
      " 5   DU_text      7000 non-null   int64  \n",
      " 6   ER_text      7000 non-null   int64  \n",
      " 7   result_text  7000 non-null   int64  \n",
      " 8   location     7000 non-null   object \n",
      " 9   temp         7000 non-null   float64\n",
      " 10  rain         7000 non-null   float64\n",
      " 11  humidity     7000 non-null   float64\n",
      "dtypes: float64(3), int64(7), object(2)\n",
      "memory usage: 710.9+ KB\n"
     ]
    }
   ],
   "source": [
    "train.info()"
   ]
  },
  {
   "cell_type": "code",
   "execution_count": 7,
   "metadata": {},
   "outputs": [
    {
     "name": "stdout",
     "output_type": "stream",
     "text": [
      "<class 'pandas.core.frame.DataFrame'>\n",
      "Index: 3398 entries, 7.7 to 10.26토\n",
      "Data columns (total 12 columns):\n",
      " #   Column       Non-Null Count  Dtype  \n",
      "---  ------       --------------  -----  \n",
      " 0   team_text    3398 non-null   object \n",
      " 1   H_text       3398 non-null   int64  \n",
      " 2   HR_text      3398 non-null   int64  \n",
      " 3   S_text       3398 non-null   int64  \n",
      " 4   ST_text      3398 non-null   int64  \n",
      " 5   DU_text      3398 non-null   int64  \n",
      " 6   ER_text      3398 non-null   int64  \n",
      " 7   result_text  3398 non-null   int64  \n",
      " 8   location     3398 non-null   object \n",
      " 9   temp         3398 non-null   float64\n",
      " 10  rain         3398 non-null   float64\n",
      " 11  humidity     3398 non-null   int64  \n",
      "dtypes: float64(2), int64(8), object(2)\n",
      "memory usage: 345.1+ KB\n"
     ]
    }
   ],
   "source": [
    "test.info()"
   ]
  },
  {
   "cell_type": "code",
   "execution_count": null,
   "metadata": {},
   "outputs": [],
   "source": []
  },
  {
   "cell_type": "code",
   "execution_count": 8,
   "metadata": {},
   "outputs": [],
   "source": [
    "train.drop('team_text', axis = 1 , inplace = True)\n",
    "test.drop('team_text', axis = 1 , inplace = True)"
   ]
  },
  {
   "cell_type": "code",
   "execution_count": 9,
   "metadata": {},
   "outputs": [],
   "source": [
    "train.drop('location', axis = 1 , inplace = True)\n",
    "test.drop('location', axis = 1 , inplace = True)"
   ]
  },
  {
   "cell_type": "code",
   "execution_count": 10,
   "metadata": {},
   "outputs": [
    {
     "name": "stdout",
     "output_type": "stream",
     "text": [
      "<class 'pandas.core.frame.DataFrame'>\n",
      "Index: 7000 entries, 4.7 to 7.7\n",
      "Data columns (total 10 columns):\n",
      " #   Column       Non-Null Count  Dtype  \n",
      "---  ------       --------------  -----  \n",
      " 0   H_text       7000 non-null   int64  \n",
      " 1   HR_text      7000 non-null   int64  \n",
      " 2   S_text       7000 non-null   int64  \n",
      " 3   ST_text      7000 non-null   int64  \n",
      " 4   DU_text      7000 non-null   int64  \n",
      " 5   ER_text      7000 non-null   int64  \n",
      " 6   result_text  7000 non-null   int64  \n",
      " 7   temp         7000 non-null   float64\n",
      " 8   rain         7000 non-null   float64\n",
      " 9   humidity     7000 non-null   float64\n",
      "dtypes: float64(3), int64(7)\n",
      "memory usage: 601.6+ KB\n"
     ]
    }
   ],
   "source": [
    "train.info()"
   ]
  },
  {
   "cell_type": "code",
   "execution_count": 11,
   "metadata": {},
   "outputs": [
    {
     "name": "stdout",
     "output_type": "stream",
     "text": [
      "<class 'pandas.core.frame.DataFrame'>\n",
      "Index: 3398 entries, 7.7 to 10.26토\n",
      "Data columns (total 10 columns):\n",
      " #   Column       Non-Null Count  Dtype  \n",
      "---  ------       --------------  -----  \n",
      " 0   H_text       3398 non-null   int64  \n",
      " 1   HR_text      3398 non-null   int64  \n",
      " 2   S_text       3398 non-null   int64  \n",
      " 3   ST_text      3398 non-null   int64  \n",
      " 4   DU_text      3398 non-null   int64  \n",
      " 5   ER_text      3398 non-null   int64  \n",
      " 6   result_text  3398 non-null   int64  \n",
      " 7   temp         3398 non-null   float64\n",
      " 8   rain         3398 non-null   float64\n",
      " 9   humidity     3398 non-null   int64  \n",
      "dtypes: float64(2), int64(8)\n",
      "memory usage: 292.0+ KB\n"
     ]
    }
   ],
   "source": [
    "test.info()"
   ]
  },
  {
   "cell_type": "markdown",
   "metadata": {},
   "source": [
    "#### train 과 test 데이터 설정"
   ]
  },
  {
   "cell_type": "code",
   "execution_count": 12,
   "metadata": {},
   "outputs": [],
   "source": [
    "y_train = train['result_text']\n",
    "X_train = train.drop('result_text', axis = 1)\n",
    "y_test = test['result_text']\n",
    "X_test = test.drop('result_text', axis = 1)"
   ]
  },
  {
   "cell_type": "markdown",
   "metadata": {},
   "source": [
    "### KNN 모델"
   ]
  },
  {
   "cell_type": "code",
   "execution_count": 23,
   "metadata": {},
   "outputs": [
    {
     "data": {
      "text/plain": [
       "array([0.70714286, 0.71285714, 0.72      , 0.70642857, 0.69714286])"
      ]
     },
     "execution_count": 23,
     "metadata": {},
     "output_type": "execute_result"
    }
   ],
   "source": [
    "knn_model = KNeighborsClassifier(n_neighbors = 50)\n",
    "result = cross_val_score(knn_model,\n",
    "                        X_train,\n",
    "                        y_train,\n",
    "                        cv = 5)\n",
    "result"
   ]
  },
  {
   "cell_type": "code",
   "execution_count": 24,
   "metadata": {},
   "outputs": [
    {
     "data": {
      "text/plain": [
       "0.7087142857142856"
      ]
     },
     "execution_count": 24,
     "metadata": {},
     "output_type": "execute_result"
    }
   ],
   "source": [
    "result.mean()"
   ]
  },
  {
   "cell_type": "markdown",
   "metadata": {},
   "source": [
    "#### KNN Scaler 적용"
   ]
  },
  {
   "cell_type": "code",
   "execution_count": 25,
   "metadata": {},
   "outputs": [],
   "source": [
    "scaler = StandardScaler()"
   ]
  },
  {
   "cell_type": "code",
   "execution_count": 26,
   "metadata": {},
   "outputs": [
    {
     "data": {
      "text/plain": [
       "StandardScaler()"
      ]
     },
     "execution_count": 26,
     "metadata": {},
     "output_type": "execute_result"
    }
   ],
   "source": [
    "scaler.fit(X_train)  # 평균과 표준편차로 scaling 한 값을 컴퓨터가 기억"
   ]
  },
  {
   "cell_type": "code",
   "execution_count": 27,
   "metadata": {},
   "outputs": [
    {
     "data": {
      "text/plain": [
       "array([[ 0.39440379, -0.86226809,  1.10850335, ..., -0.37077158,\n",
       "        -0.27374911, -0.19483241],\n",
       "       [ 0.12547465,  0.09186985,  1.10850335, ..., -0.37077158,\n",
       "        -0.27374911, -0.19483241],\n",
       "       [-0.95024191, -0.86226809,  1.10850335, ..., -0.37077158,\n",
       "        -0.27374911, -0.19483241],\n",
       "       ...,\n",
       "       [-0.41238363, -0.86226809, -0.784987  , ..., -0.37077158,\n",
       "        -0.27374911,  5.13261629],\n",
       "       [ 0.39440379,  2.9542837 , -0.784987  , ..., -0.37077158,\n",
       "        -0.27374911,  5.13261629],\n",
       "       [-0.14345449,  0.09186985, -0.784987  , ..., -0.37077158,\n",
       "        -0.27374911,  5.13261629]])"
      ]
     },
     "execution_count": 27,
     "metadata": {},
     "output_type": "execute_result"
    }
   ],
   "source": [
    "transform_X_train = scaler.transform(X_train)\n",
    "transform_X_train"
   ]
  },
  {
   "cell_type": "code",
   "execution_count": 28,
   "metadata": {},
   "outputs": [
    {
     "data": {
      "text/plain": [
       "array([[ 1.20119121,  2.00014575, -0.784987  , ...,  2.69707836,\n",
       "        -0.27374911, -0.19483241],\n",
       "       [ 0.12547465, -0.86226809, -0.784987  , ...,  2.69707836,\n",
       "        -0.27374911, -0.19483241],\n",
       "       [ 0.39440379,  0.09186985,  0.16175818, ...,  2.69707836,\n",
       "        -0.27374911, -0.19483241],\n",
       "       ...,\n",
       "       [-1.48810019, -0.86226809, -0.784987  , ..., -0.37077158,\n",
       "        -0.27374911, -0.19483241],\n",
       "       [ 1.20119121, -0.86226809,  0.16175818, ..., -0.37077158,\n",
       "        -0.27374911, -0.19483241],\n",
       "       [ 0.66333293, -0.86226809, -0.784987  , ..., -0.37077158,\n",
       "        -0.27374911, -0.19483241]])"
      ]
     },
     "execution_count": 28,
     "metadata": {},
     "output_type": "execute_result"
    }
   ],
   "source": [
    "transform_X_test = scaler.transform(X_test)\n",
    "transform_X_test"
   ]
  },
  {
   "cell_type": "code",
   "execution_count": 29,
   "metadata": {},
   "outputs": [
    {
     "data": {
      "text/plain": [
       "array([0.67571429, 0.70142857, 0.7       , 0.70857143, 0.68785714])"
      ]
     },
     "execution_count": 29,
     "metadata": {},
     "output_type": "execute_result"
    }
   ],
   "source": [
    "result = cross_val_score(knn_model,\n",
    "                        transform_X_train,\n",
    "                        y_train,\n",
    "                        cv = 5)\n",
    "result"
   ]
  },
  {
   "cell_type": "code",
   "execution_count": 30,
   "metadata": {},
   "outputs": [
    {
     "data": {
      "text/plain": [
       "0.6947142857142857"
      ]
     },
     "execution_count": 30,
     "metadata": {},
     "output_type": "execute_result"
    }
   ],
   "source": [
    "result.mean()"
   ]
  },
  {
   "cell_type": "markdown",
   "metadata": {},
   "source": [
    "#### KNN Scaler 적용"
   ]
  },
  {
   "cell_type": "code",
   "execution_count": 31,
   "metadata": {},
   "outputs": [],
   "source": [
    "y_pred = knn_model.fit(transform_X_train, y_train).predict(transform_X_test)"
   ]
  },
  {
   "cell_type": "code",
   "execution_count": 32,
   "metadata": {},
   "outputs": [
    {
     "name": "stdout",
     "output_type": "stream",
     "text": [
      "총 승패 갯수 3398 에서 틀린 예측 갯수 : 1030\n"
     ]
    }
   ],
   "source": [
    "print(\"총 승패 갯수 %d 에서 틀린 예측 갯수 : %d\" % (transform_X_test.shape[0], (y_test != y_pred).sum()))"
   ]
  },
  {
   "cell_type": "code",
   "execution_count": 33,
   "metadata": {},
   "outputs": [
    {
     "name": "stdout",
     "output_type": "stream",
     "text": [
      "예측 정확도: 0.70\n"
     ]
    }
   ],
   "source": [
    "print(\"예측 정확도: {:.2f}\".format(np.mean(y_pred == y_test)))"
   ]
  },
  {
   "cell_type": "markdown",
   "metadata": {},
   "source": [
    "### Decision Tree 모델"
   ]
  },
  {
   "cell_type": "code",
   "execution_count": 34,
   "metadata": {},
   "outputs": [],
   "source": [
    "tree_model = DecisionTreeClassifier(max_depth = 7)"
   ]
  },
  {
   "cell_type": "code",
   "execution_count": 35,
   "metadata": {},
   "outputs": [
    {
     "data": {
      "text/plain": [
       "array([0.68      , 0.67571429, 0.69      , 0.66285714, 0.68      ,\n",
       "       0.71428571, 0.69142857, 0.69428571, 0.67      , 0.70714286])"
      ]
     },
     "execution_count": 35,
     "metadata": {},
     "output_type": "execute_result"
    }
   ],
   "source": [
    "result = cross_val_score(tree_model,\n",
    "                        X_train,\n",
    "                        y_train,\n",
    "                        cv = 10)\n",
    "result"
   ]
  },
  {
   "cell_type": "code",
   "execution_count": 36,
   "metadata": {},
   "outputs": [
    {
     "data": {
      "text/plain": [
       "0.6865714285714286"
      ]
     },
     "execution_count": 36,
     "metadata": {},
     "output_type": "execute_result"
    }
   ],
   "source": [
    "result.mean()"
   ]
  },
  {
   "cell_type": "code",
   "execution_count": 37,
   "metadata": {},
   "outputs": [],
   "source": [
    "y_pred = tree_model.fit(X_train, y_train).predict(X_test)"
   ]
  },
  {
   "cell_type": "code",
   "execution_count": 38,
   "metadata": {},
   "outputs": [
    {
     "name": "stdout",
     "output_type": "stream",
     "text": [
      "총 승패 갯수 3398 에서 틀린 예측 갯수 : 1013\n"
     ]
    }
   ],
   "source": [
    "print(\"총 승패 갯수 %d 에서 틀린 예측 갯수 : %d\" % (X_test.shape[0], (y_test != y_pred).sum()))"
   ]
  },
  {
   "cell_type": "code",
   "execution_count": 39,
   "metadata": {},
   "outputs": [
    {
     "name": "stdout",
     "output_type": "stream",
     "text": [
      "예측 정확도: 0.70\n"
     ]
    }
   ],
   "source": [
    "print(\"예측 정확도: {:.2f}\".format(np.mean(y_pred == y_test)))"
   ]
  },
  {
   "cell_type": "markdown",
   "metadata": {},
   "source": [
    "### Random Forest"
   ]
  },
  {
   "cell_type": "code",
   "execution_count": 157,
   "metadata": {},
   "outputs": [],
   "source": [
    "from sklearn.ensemble import RandomForestClassifier"
   ]
  },
  {
   "cell_type": "code",
   "execution_count": 158,
   "metadata": {},
   "outputs": [
    {
     "name": "stdout",
     "output_type": "stream",
     "text": [
      "총 승패 갯수 3398 에서 틀린 예측 갯수 : 1003\n",
      "예측 정확도: 0.70\n"
     ]
    }
   ],
   "source": [
    "rf_clf = RandomForestClassifier()\n",
    "model = rf_clf.fit(X_train,y_train)\n",
    "rf_pred = model.predict(X_test)\n",
    "print(\"총 승패 갯수 %d 에서 틀린 예측 갯수 : %d\" % (X_test.shape[0], (y_test != rf_pred).sum()))\n",
    "print(\"예측 정확도: {:.2f}\".format(np.mean(rf_pred == y_test)))"
   ]
  },
  {
   "cell_type": "markdown",
   "metadata": {},
   "source": [
    "### Naive Bayes 분류 모델"
   ]
  },
  {
   "cell_type": "code",
   "execution_count": 40,
   "metadata": {},
   "outputs": [],
   "source": [
    "from sklearn.naive_bayes import GaussianNB"
   ]
  },
  {
   "cell_type": "code",
   "execution_count": 41,
   "metadata": {},
   "outputs": [],
   "source": [
    "nb = GaussianNB()"
   ]
  },
  {
   "cell_type": "code",
   "execution_count": 42,
   "metadata": {},
   "outputs": [],
   "source": [
    "y_pred = nb.fit(X_train, y_train).predict(X_test)"
   ]
  },
  {
   "cell_type": "code",
   "execution_count": 43,
   "metadata": {},
   "outputs": [
    {
     "name": "stdout",
     "output_type": "stream",
     "text": [
      "총 승패 갯수 3398 에서 틀린 예측 갯수 : 1010\n"
     ]
    }
   ],
   "source": [
    "print(\"총 승패 갯수 %d 에서 틀린 예측 갯수 : %d\" % (X_test.shape[0], (y_test != y_pred).sum()))"
   ]
  },
  {
   "cell_type": "code",
   "execution_count": 44,
   "metadata": {},
   "outputs": [
    {
     "name": "stdout",
     "output_type": "stream",
     "text": [
      "예측 정확도: 0.70\n"
     ]
    }
   ],
   "source": [
    "print(\"예측 정확도: {:.2f}\".format(np.mean(y_pred == y_test)))"
   ]
  },
  {
   "cell_type": "markdown",
   "metadata": {},
   "source": [
    "### SVM 분류 모델"
   ]
  },
  {
   "cell_type": "code",
   "execution_count": 45,
   "metadata": {},
   "outputs": [],
   "source": [
    "svm_model = SVC(kernel='rbf', C=1000, gamma=0.001)"
   ]
  },
  {
   "cell_type": "code",
   "execution_count": 46,
   "metadata": {},
   "outputs": [],
   "source": [
    "y_pred = svm_model.fit(X_train, y_train).predict(X_test)"
   ]
  },
  {
   "cell_type": "code",
   "execution_count": 47,
   "metadata": {},
   "outputs": [
    {
     "name": "stdout",
     "output_type": "stream",
     "text": [
      "총 승패 갯수 3398 에서 틀린 예측 갯수 : 965\n"
     ]
    }
   ],
   "source": [
    "print(\"총 승패 갯수 %d 에서 틀린 예측 갯수 : %d\" % (X_test.shape[0], (y_test != y_pred).sum()))"
   ]
  },
  {
   "cell_type": "code",
   "execution_count": 48,
   "metadata": {},
   "outputs": [
    {
     "name": "stdout",
     "output_type": "stream",
     "text": [
      "예측 정확도: 0.72\n"
     ]
    }
   ],
   "source": [
    "print(\"예측 정확도: {:.2f}\".format(np.mean(y_pred == y_test)))"
   ]
  },
  {
   "cell_type": "markdown",
   "metadata": {},
   "source": [
    "### XGBOOST 모델"
   ]
  },
  {
   "cell_type": "code",
   "execution_count": 49,
   "metadata": {},
   "outputs": [],
   "source": [
    "from xgboost import plot_importance\n",
    "from xgboost import XGBClassifier"
   ]
  },
  {
   "cell_type": "code",
   "execution_count": 50,
   "metadata": {},
   "outputs": [
    {
     "name": "stderr",
     "output_type": "stream",
     "text": [
      "C:\\Users\\smhrd\\Anaconda3\\lib\\site-packages\\xgboost\\sklearn.py:888: UserWarning: The use of label encoder in XGBClassifier is deprecated and will be removed in a future release. To remove this warning, do the following: 1) Pass option use_label_encoder=False when constructing XGBClassifier object; and 2) Encode your labels (y) as integers starting with 0, i.e. 0, 1, 2, ..., [num_class - 1].\n",
      "  warnings.warn(label_encoder_deprecation_msg, UserWarning)\n"
     ]
    },
    {
     "name": "stdout",
     "output_type": "stream",
     "text": [
      "[15:14:20] WARNING: C:/Users/Administrator/workspace/xgboost-win64_release_1.3.0/src/learner.cc:1061: Starting in XGBoost 1.3.0, the default evaluation metric used with the objective 'binary:logistic' was changed from 'error' to 'logloss'. Explicitly set eval_metric if you'd like to restore the old behavior.\n"
     ]
    }
   ],
   "source": [
    "xgb = XGBClassifier(n_estimators = 5000, learning_rate = 0.001, max_depth = 5)\n",
    "xgb.fit(X_train, y_train)\n",
    "xgb_pred = xgb.predict(X_test)"
   ]
  },
  {
   "cell_type": "code",
   "execution_count": 51,
   "metadata": {},
   "outputs": [
    {
     "name": "stdout",
     "output_type": "stream",
     "text": [
      "총 승패 갯수 3398 에서 틀린 예측 갯수 : 957\n"
     ]
    }
   ],
   "source": [
    "print(\"총 승패 갯수 %d 에서 틀린 예측 갯수 : %d\" % (X_test.shape[0], (y_test != xgb_pred).sum()))"
   ]
  },
  {
   "cell_type": "code",
   "execution_count": 52,
   "metadata": {},
   "outputs": [
    {
     "name": "stdout",
     "output_type": "stream",
     "text": [
      "예측 정확도: 0.72\n"
     ]
    }
   ],
   "source": [
    "print(\"예측 정확도: {:.2f}\".format(np.mean(xgb_pred == y_test)))"
   ]
  },
  {
   "cell_type": "markdown",
   "metadata": {},
   "source": [
    "### Stochastic Gradient Descent"
   ]
  },
  {
   "cell_type": "code",
   "execution_count": 53,
   "metadata": {},
   "outputs": [],
   "source": [
    "from sklearn.linear_model import SGDClassifier\n",
    "from sklearn.metrics import classification_report\n",
    "from sklearn.metrics import confusion_matrix"
   ]
  },
  {
   "cell_type": "code",
   "execution_count": 54,
   "metadata": {},
   "outputs": [],
   "source": [
    "sgd =  SGDClassifier(loss='modified_huber', shuffle=True,random_state=101)\n",
    "sgd.fit(X_train, y_train)\n",
    "y_pred=sgd.predict(X_test)"
   ]
  },
  {
   "cell_type": "code",
   "execution_count": 55,
   "metadata": {},
   "outputs": [
    {
     "name": "stdout",
     "output_type": "stream",
     "text": [
      "총 승패 갯수 3398 에서 틀린 예측 갯수 : 1153\n"
     ]
    }
   ],
   "source": [
    "print(\"총 승패 갯수 %d 에서 틀린 예측 갯수 : %d\" % (X_test.shape[0], (y_test != y_pred).sum()))"
   ]
  },
  {
   "cell_type": "code",
   "execution_count": 56,
   "metadata": {},
   "outputs": [
    {
     "name": "stdout",
     "output_type": "stream",
     "text": [
      "예측 정확도: 0.66\n"
     ]
    }
   ],
   "source": [
    "print(\"예측 정확도: {:.2f}\".format(np.mean(y_pred == y_test)))"
   ]
  },
  {
   "cell_type": "markdown",
   "metadata": {},
   "source": [
    "### 모델 한번에"
   ]
  },
  {
   "cell_type": "code",
   "execution_count": 57,
   "metadata": {},
   "outputs": [],
   "source": [
    "from sklearn.linear_model import LogisticRegression\n",
    "from sklearn.svm import SVC\n",
    "from sklearn.neighbors import KNeighborsClassifier\n",
    "from sklearn.ensemble import RandomForestClassifier\n",
    "from sklearn.naive_bayes import GaussianNB\n",
    "\n",
    "from sklearn.utils import shuffle"
   ]
  },
  {
   "cell_type": "code",
   "execution_count": 58,
   "metadata": {},
   "outputs": [],
   "source": [
    "train_data, train_label = shuffle(X_train, y_train, random_state = 5)"
   ]
  },
  {
   "cell_type": "code",
   "execution_count": 59,
   "metadata": {},
   "outputs": [],
   "source": [
    "def train_and_test(model):\n",
    "    model.fit(train_data, train_label)\n",
    "    prediction = model.predict(X_test)\n",
    "    accuracy = round(model.score(train_data, train_label) * 100, 2)\n",
    "    print(\"Accuracy : \", accuracy, \"%\")\n",
    "    return prediction"
   ]
  },
  {
   "cell_type": "code",
   "execution_count": 60,
   "metadata": {},
   "outputs": [
    {
     "name": "stdout",
     "output_type": "stream",
     "text": [
      "Accuracy :  72.61 %\n"
     ]
    },
    {
     "name": "stderr",
     "output_type": "stream",
     "text": [
      "C:\\Users\\smhrd\\Anaconda3\\lib\\site-packages\\sklearn\\linear_model\\_logistic.py:762: ConvergenceWarning: lbfgs failed to converge (status=1):\n",
      "STOP: TOTAL NO. of ITERATIONS REACHED LIMIT.\n",
      "\n",
      "Increase the number of iterations (max_iter) or scale the data as shown in:\n",
      "    https://scikit-learn.org/stable/modules/preprocessing.html\n",
      "Please also refer to the documentation for alternative solver options:\n",
      "    https://scikit-learn.org/stable/modules/linear_model.html#logistic-regression\n",
      "  n_iter_i = _check_optimize_result(\n"
     ]
    },
    {
     "name": "stdout",
     "output_type": "stream",
     "text": [
      "Accuracy :  72.53 %\n",
      "Accuracy :  77.73 %\n",
      "Accuracy :  99.21 %\n",
      "Accuracy :  70.43 %\n"
     ]
    }
   ],
   "source": [
    "# Logistic Regression\n",
    "log_pred = train_and_test(LogisticRegression())\n",
    "# SVM\n",
    "svm_pred = train_and_test(SVC())\n",
    "#kNN\n",
    "knn_pred_4 = train_and_test(KNeighborsClassifier(n_neighbors = 4))\n",
    "# Random Forest\n",
    "rf_pred = train_and_test(RandomForestClassifier(n_estimators=100))\n",
    "# Navie Bayes\n",
    "nb_pred = train_and_test(GaussianNB())"
   ]
  },
  {
   "cell_type": "code",
   "execution_count": 61,
   "metadata": {},
   "outputs": [
    {
     "name": "stdout",
     "output_type": "stream",
     "text": [
      "총 승패 갯수 3398 에서 틀린 예측 갯수 : 946\n"
     ]
    }
   ],
   "source": [
    "print(\"총 승패 갯수 %d 에서 틀린 예측 갯수 : %d\" % (X_test.shape[0], (y_test != log_pred).sum()))"
   ]
  },
  {
   "cell_type": "code",
   "execution_count": 62,
   "metadata": {},
   "outputs": [
    {
     "name": "stdout",
     "output_type": "stream",
     "text": [
      "예측 정확도: 0.72\n"
     ]
    }
   ],
   "source": [
    "print(\"예측 정확도: {:.2f}\".format(np.mean(log_pred == y_test)))"
   ]
  },
  {
   "cell_type": "markdown",
   "metadata": {},
   "source": [
    "### Keras"
   ]
  },
  {
   "cell_type": "code",
   "execution_count": 109,
   "metadata": {},
   "outputs": [
    {
     "name": "stdout",
     "output_type": "stream",
     "text": [
      "<class 'pandas.core.frame.DataFrame'>\n",
      "Index: 7000 entries, 4.7 to 7.7\n",
      "Data columns (total 10 columns):\n",
      " #   Column       Non-Null Count  Dtype  \n",
      "---  ------       --------------  -----  \n",
      " 0   H_text       7000 non-null   float64\n",
      " 1   HR_text      7000 non-null   float64\n",
      " 2   S_text       7000 non-null   float64\n",
      " 3   ST_text      7000 non-null   float64\n",
      " 4   DU_text      7000 non-null   float64\n",
      " 5   ER_text      7000 non-null   float64\n",
      " 6   result_text  7000 non-null   float64\n",
      " 7   temp         7000 non-null   float64\n",
      " 8   rain         7000 non-null   float64\n",
      " 9   humidity     7000 non-null   float64\n",
      "dtypes: float64(10)\n",
      "memory usage: 601.6+ KB\n"
     ]
    }
   ],
   "source": [
    "train.info()"
   ]
  },
  {
   "cell_type": "code",
   "execution_count": 110,
   "metadata": {},
   "outputs": [
    {
     "name": "stdout",
     "output_type": "stream",
     "text": [
      "<class 'pandas.core.frame.DataFrame'>\n",
      "Index: 3398 entries, 7.7 to 10.26토\n",
      "Data columns (total 10 columns):\n",
      " #   Column       Non-Null Count  Dtype  \n",
      "---  ------       --------------  -----  \n",
      " 0   H_text       3398 non-null   float64\n",
      " 1   HR_text      3398 non-null   float64\n",
      " 2   S_text       3398 non-null   float64\n",
      " 3   ST_text      3398 non-null   float64\n",
      " 4   DU_text      3398 non-null   float64\n",
      " 5   ER_text      3398 non-null   float64\n",
      " 6   result_text  3398 non-null   float64\n",
      " 7   temp         3398 non-null   float64\n",
      " 8   rain         3398 non-null   float64\n",
      " 9   humidity     3398 non-null   float64\n",
      "dtypes: float64(10)\n",
      "memory usage: 292.0+ KB\n"
     ]
    }
   ],
   "source": [
    "test.info()"
   ]
  },
  {
   "cell_type": "code",
   "execution_count": 111,
   "metadata": {},
   "outputs": [],
   "source": [
    "train['H_text'] = train['H_text'].astype('float')\n",
    "train['HR_text'] = train['HR_text'].astype('float')\n",
    "train['S_text'] = train['S_text'].astype('float')\n",
    "train['ST_text'] = train['ST_text'].astype('float')\n",
    "train['DU_text'] = train['DU_text'].astype('float')\n",
    "train['ER_text'] = train['ER_text'].astype('float')\n",
    "train['result_text'] = train['result_text'].astype('float')"
   ]
  },
  {
   "cell_type": "code",
   "execution_count": 112,
   "metadata": {},
   "outputs": [
    {
     "name": "stdout",
     "output_type": "stream",
     "text": [
      "<class 'pandas.core.frame.DataFrame'>\n",
      "Index: 7000 entries, 4.7 to 7.7\n",
      "Data columns (total 10 columns):\n",
      " #   Column       Non-Null Count  Dtype  \n",
      "---  ------       --------------  -----  \n",
      " 0   H_text       7000 non-null   float64\n",
      " 1   HR_text      7000 non-null   float64\n",
      " 2   S_text       7000 non-null   float64\n",
      " 3   ST_text      7000 non-null   float64\n",
      " 4   DU_text      7000 non-null   float64\n",
      " 5   ER_text      7000 non-null   float64\n",
      " 6   result_text  7000 non-null   float64\n",
      " 7   temp         7000 non-null   float64\n",
      " 8   rain         7000 non-null   float64\n",
      " 9   humidity     7000 non-null   float64\n",
      "dtypes: float64(10)\n",
      "memory usage: 601.6+ KB\n"
     ]
    }
   ],
   "source": [
    "train.info()"
   ]
  },
  {
   "cell_type": "code",
   "execution_count": 113,
   "metadata": {},
   "outputs": [],
   "source": [
    "test['H_text'] = test['H_text'].astype('float')\n",
    "test['HR_text'] = test['HR_text'].astype('float')\n",
    "test['S_text'] = test['S_text'].astype('float')\n",
    "test['ST_text'] = test['ST_text'].astype('float')\n",
    "test['DU_text'] = test['DU_text'].astype('float')\n",
    "test['ER_text'] = test['ER_text'].astype('float')\n",
    "test['result_text'] = test['result_text'].astype('float')\n",
    "test['humidity'] = test['humidity'].astype('float')"
   ]
  },
  {
   "cell_type": "code",
   "execution_count": 114,
   "metadata": {},
   "outputs": [
    {
     "name": "stdout",
     "output_type": "stream",
     "text": [
      "<class 'pandas.core.frame.DataFrame'>\n",
      "Index: 3398 entries, 7.7 to 10.26토\n",
      "Data columns (total 10 columns):\n",
      " #   Column       Non-Null Count  Dtype  \n",
      "---  ------       --------------  -----  \n",
      " 0   H_text       3398 non-null   float64\n",
      " 1   HR_text      3398 non-null   float64\n",
      " 2   S_text       3398 non-null   float64\n",
      " 3   ST_text      3398 non-null   float64\n",
      " 4   DU_text      3398 non-null   float64\n",
      " 5   ER_text      3398 non-null   float64\n",
      " 6   result_text  3398 non-null   float64\n",
      " 7   temp         3398 non-null   float64\n",
      " 8   rain         3398 non-null   float64\n",
      " 9   humidity     3398 non-null   float64\n",
      "dtypes: float64(10)\n",
      "memory usage: 292.0+ KB\n"
     ]
    }
   ],
   "source": [
    "test.info()"
   ]
  },
  {
   "cell_type": "code",
   "execution_count": 127,
   "metadata": {},
   "outputs": [],
   "source": [
    "import tensorflow as tf\n",
    "import keras\n",
    "from keras.models import Sequential\n",
    "from keras.layers.core import Dense,Dropout\n",
    "\n",
    "model = Sequential()\n",
    "\n",
    "\n",
    "#model.add(Dense(255, activation='relu', input_shape=(1,9)))\n",
    "model.add(Dense(300, activation='relu', input_shape=(1,9)))\n",
    "model.add(Dense(200, activation='relu'))\n",
    "model.add(Dense(100, activation='relu'))\n",
    "model.add(Dense(20, activation='relu'))\n",
    "model.add(Dense(1, activation ='sigmoid'))"
   ]
  },
  {
   "cell_type": "code",
   "execution_count": 128,
   "metadata": {},
   "outputs": [],
   "source": [
    "model.compile(loss='binary_crossentropy',\n",
    "              optimizer='adam',\n",
    "              metrics=['accuracy'])"
   ]
  },
  {
   "cell_type": "code",
   "execution_count": 141,
   "metadata": {},
   "outputs": [
    {
     "name": "stdout",
     "output_type": "stream",
     "text": [
      "Epoch 1/15\n",
      "350/350 [==============================] - 0s 903us/step - loss: 0.5097 - accuracy: 0.7394\n",
      "Epoch 2/15\n",
      "350/350 [==============================] - 0s 910us/step - loss: 0.5049 - accuracy: 0.7434\n",
      "Epoch 3/15\n",
      "350/350 [==============================] - 0s 1ms/step - loss: 0.5080 - accuracy: 0.7390\n",
      "Epoch 4/15\n",
      "350/350 [==============================] - 0s 908us/step - loss: 0.5041 - accuracy: 0.7420\n",
      "Epoch 5/15\n",
      "350/350 [==============================] - 0s 1ms/step - loss: 0.5057 - accuracy: 0.7400\n",
      "Epoch 6/15\n",
      "350/350 [==============================] - 0s 958us/step - loss: 0.5056 - accuracy: 0.7404\n",
      "Epoch 7/15\n",
      "350/350 [==============================] - 0s 884us/step - loss: 0.5051 - accuracy: 0.7421\n",
      "Epoch 8/15\n",
      "350/350 [==============================] - 0s 910us/step - loss: 0.5086 - accuracy: 0.7413\n",
      "Epoch 9/15\n",
      "350/350 [==============================] - 0s 1ms/step - loss: 0.5015 - accuracy: 0.7440\n",
      "Epoch 10/15\n",
      "350/350 [==============================] - 0s 895us/step - loss: 0.5040 - accuracy: 0.7427\n",
      "Epoch 11/15\n",
      "350/350 [==============================] - 0s 874us/step - loss: 0.5000 - accuracy: 0.7443\n",
      "Epoch 12/15\n",
      "350/350 [==============================] - 0s 942us/step - loss: 0.5014 - accuracy: 0.7470\n",
      "Epoch 13/15\n",
      "350/350 [==============================] - 0s 1ms/step - loss: 0.5049 - accuracy: 0.7426\n",
      "Epoch 14/15\n",
      "350/350 [==============================] - 0s 914us/step - loss: 0.5008 - accuracy: 0.7430\n",
      "Epoch 15/15\n",
      "350/350 [==============================] - 0s 1ms/step - loss: 0.4978 - accuracy: 0.7481\n"
     ]
    },
    {
     "data": {
      "text/plain": [
       "<tensorflow.python.keras.callbacks.History at 0x1fbfc7ee850>"
      ]
     },
     "execution_count": 141,
     "metadata": {},
     "output_type": "execute_result"
    }
   ],
   "source": [
    "model.fit(X_train, y_train, epochs=15, batch_size=20, verbose=1)"
   ]
  },
  {
   "cell_type": "code",
   "execution_count": 145,
   "metadata": {},
   "outputs": [
    {
     "name": "stdout",
     "output_type": "stream",
     "text": [
      "107/107 [==============================] - 0s 529us/step - loss: 0.6413 - accuracy: 0.7075\n",
      "\n",
      "test accuracy: 0.7074750065803528\n"
     ]
    }
   ],
   "source": [
    "test_loss, test_acc = model.evaluate(X_test, y_test, verbose=1)\n",
    "print('\\ntest accuracy:', test_acc)"
   ]
  },
  {
   "cell_type": "code",
   "execution_count": 148,
   "metadata": {},
   "outputs": [
    {
     "name": "stdout",
     "output_type": "stream",
     "text": [
      "Epoch 1/15\n",
      "350/350 [==============================] - 0s 973us/step - loss: 0.5370 - accuracy: 0.7281\n",
      "Epoch 2/15\n",
      "350/350 [==============================] - 0s 897us/step - loss: 0.5320 - accuracy: 0.7276\n",
      "Epoch 3/15\n",
      "350/350 [==============================] - 0s 974us/step - loss: 0.5318 - accuracy: 0.7287\n",
      "Epoch 4/15\n",
      "350/350 [==============================] - 0s 925us/step - loss: 0.5310 - accuracy: 0.7303\n",
      "Epoch 5/15\n",
      "350/350 [==============================] - 0s 961us/step - loss: 0.5305 - accuracy: 0.7290\n",
      "Epoch 6/15\n",
      "350/350 [==============================] - 0s 966us/step - loss: 0.5299 - accuracy: 0.7299\n",
      "Epoch 7/15\n",
      "350/350 [==============================] - 0s 900us/step - loss: 0.5299 - accuracy: 0.7300\n",
      "Epoch 8/15\n",
      "350/350 [==============================] - 0s 1ms/step - loss: 0.5292 - accuracy: 0.7279\n",
      "Epoch 9/15\n",
      "350/350 [==============================] - 0s 949us/step - loss: 0.5290 - accuracy: 0.7297\n",
      "Epoch 10/15\n",
      "350/350 [==============================] - 0s 1ms/step - loss: 0.5280 - accuracy: 0.7289\n",
      "Epoch 11/15\n",
      "350/350 [==============================] - 0s 920us/step - loss: 0.5276 - accuracy: 0.7289\n",
      "Epoch 12/15\n",
      "350/350 [==============================] - 0s 937us/step - loss: 0.5281 - accuracy: 0.7310\n",
      "Epoch 13/15\n",
      "350/350 [==============================] - 0s 974us/step - loss: 0.5271 - accuracy: 0.7280\n",
      "Epoch 14/15\n",
      "350/350 [==============================] - 0s 918us/step - loss: 0.5267 - accuracy: 0.7324\n",
      "Epoch 15/15\n",
      "350/350 [==============================] - 0s 910us/step - loss: 0.5254 - accuracy: 0.7297\n"
     ]
    }
   ],
   "source": [
    "model = model.fit(X_train, y_train, epochs=15, batch_size=20, verbose=1)"
   ]
  },
  {
   "cell_type": "code",
   "execution_count": null,
   "metadata": {},
   "outputs": [],
   "source": []
  },
  {
   "cell_type": "code",
   "execution_count": null,
   "metadata": {},
   "outputs": [],
   "source": []
  },
  {
   "cell_type": "code",
   "execution_count": null,
   "metadata": {},
   "outputs": [],
   "source": []
  }
 ],
 "metadata": {
  "kernelspec": {
   "display_name": "Python 3",
   "language": "python",
   "name": "python3"
  },
  "language_info": {
   "codemirror_mode": {
    "name": "ipython",
    "version": 3
   },
   "file_extension": ".py",
   "mimetype": "text/x-python",
   "name": "python",
   "nbconvert_exporter": "python",
   "pygments_lexer": "ipython3",
   "version": "3.8.5"
  }
 },
 "nbformat": 4,
 "nbformat_minor": 4
}
